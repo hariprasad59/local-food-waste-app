{
 "cells": [
  {
   "cell_type": "code",
   "execution_count": 1,
   "id": "bae9cf9c",
   "metadata": {},
   "outputs": [
    {
     "name": "stdout",
     "output_type": "stream",
     "text": [
      "Requirement already satisfied: mysql-connector-python in c:\\users\\admin\\appdata\\local\\programs\\python\\python313\\lib\\site-packages (9.5.0)\n"
     ]
    },
    {
     "name": "stderr",
     "output_type": "stream",
     "text": [
      "\n",
      "[notice] A new release of pip is available: 25.1 -> 25.2\n",
      "[notice] To update, run: python.exe -m pip install --upgrade pip\n"
     ]
    }
   ],
   "source": [
    "!pip install --upgrade mysql-connector-python"
   ]
  },
  {
   "cell_type": "code",
   "execution_count": 2,
   "id": "45dbd3c1",
   "metadata": {},
   "outputs": [],
   "source": [
    "import pandas as pd\n",
    "import seaborn as sns\n",
    "import matplotlib.pyplot as plt\n",
    "import re\n",
    "import numpy as np\n",
    "import  pymysql"
   ]
  },
  {
   "cell_type": "code",
   "execution_count": 3,
   "id": "0c82684f",
   "metadata": {},
   "outputs": [],
   "source": [
    "providers_data= pd.read_csv('providers_data.csv')\n",
    "recivers_data= pd.read_csv('receivers_data.csv')\n",
    "foodlisting_data= pd.read_csv('food_listings_data.csv')\n",
    "claims_data= pd.read_csv('claims_data.csv')"
   ]
  },
  {
   "cell_type": "code",
   "execution_count": 4,
   "id": "a7dfb856",
   "metadata": {},
   "outputs": [
    {
     "data": {
      "text/html": [
       "<div>\n",
       "<style scoped>\n",
       "    .dataframe tbody tr th:only-of-type {\n",
       "        vertical-align: middle;\n",
       "    }\n",
       "\n",
       "    .dataframe tbody tr th {\n",
       "        vertical-align: top;\n",
       "    }\n",
       "\n",
       "    .dataframe thead th {\n",
       "        text-align: right;\n",
       "    }\n",
       "</style>\n",
       "<table border=\"1\" class=\"dataframe\">\n",
       "  <thead>\n",
       "    <tr style=\"text-align: right;\">\n",
       "      <th></th>\n",
       "      <th>Provider_ID</th>\n",
       "      <th>Name</th>\n",
       "      <th>Type</th>\n",
       "      <th>Address</th>\n",
       "      <th>City</th>\n",
       "      <th>Contact</th>\n",
       "    </tr>\n",
       "  </thead>\n",
       "  <tbody>\n",
       "    <tr>\n",
       "      <th>0</th>\n",
       "      <td>1</td>\n",
       "      <td>Gonzales-Cochran</td>\n",
       "      <td>Supermarket</td>\n",
       "      <td>74347 Christopher Extensions\\nAndreamouth, OK ...</td>\n",
       "      <td>New Jessica</td>\n",
       "      <td>+1-600-220-0480</td>\n",
       "    </tr>\n",
       "    <tr>\n",
       "      <th>1</th>\n",
       "      <td>2</td>\n",
       "      <td>Nielsen, Johnson and Fuller</td>\n",
       "      <td>Grocery Store</td>\n",
       "      <td>91228 Hanson Stream\\nWelchtown, OR 27136</td>\n",
       "      <td>East Sheena</td>\n",
       "      <td>+1-925-283-8901x6297</td>\n",
       "    </tr>\n",
       "    <tr>\n",
       "      <th>2</th>\n",
       "      <td>3</td>\n",
       "      <td>Miller-Black</td>\n",
       "      <td>Supermarket</td>\n",
       "      <td>561 Martinez Point Suite 507\\nGuzmanchester, W...</td>\n",
       "      <td>Lake Jesusview</td>\n",
       "      <td>001-517-295-2206</td>\n",
       "    </tr>\n",
       "    <tr>\n",
       "      <th>3</th>\n",
       "      <td>4</td>\n",
       "      <td>Clark, Prince and Williams</td>\n",
       "      <td>Grocery Store</td>\n",
       "      <td>467 Bell Trail Suite 409\\nPort Jesus, IA 61188</td>\n",
       "      <td>Mendezmouth</td>\n",
       "      <td>556.944.8935x401</td>\n",
       "    </tr>\n",
       "    <tr>\n",
       "      <th>4</th>\n",
       "      <td>5</td>\n",
       "      <td>Coleman-Farley</td>\n",
       "      <td>Grocery Store</td>\n",
       "      <td>078 Matthew Creek Apt. 319\\nSaraborough, MA 53978</td>\n",
       "      <td>Valentineside</td>\n",
       "      <td>193.714.6577</td>\n",
       "    </tr>\n",
       "    <tr>\n",
       "      <th>...</th>\n",
       "      <td>...</td>\n",
       "      <td>...</td>\n",
       "      <td>...</td>\n",
       "      <td>...</td>\n",
       "      <td>...</td>\n",
       "      <td>...</td>\n",
       "    </tr>\n",
       "    <tr>\n",
       "      <th>995</th>\n",
       "      <td>996</td>\n",
       "      <td>Vasquez, Ruiz and Flowers</td>\n",
       "      <td>Restaurant</td>\n",
       "      <td>84308 Justin Stravenue\\nNew Amberside, NE 53447</td>\n",
       "      <td>Williamview</td>\n",
       "      <td>+1-319-378-7627x0682</td>\n",
       "    </tr>\n",
       "    <tr>\n",
       "      <th>996</th>\n",
       "      <td>997</td>\n",
       "      <td>Garza-Williams</td>\n",
       "      <td>Catering Service</td>\n",
       "      <td>08864 Figueroa Radial Suite 948\\nJennaberg, AZ...</td>\n",
       "      <td>East Rossside</td>\n",
       "      <td>001-924-441-3963x746</td>\n",
       "    </tr>\n",
       "    <tr>\n",
       "      <th>997</th>\n",
       "      <td>998</td>\n",
       "      <td>Novak Group</td>\n",
       "      <td>Grocery Store</td>\n",
       "      <td>934 Zachary Run\\nMelissamouth, WY 02729</td>\n",
       "      <td>Joshuastad</td>\n",
       "      <td>(903)642-1969x3300</td>\n",
       "    </tr>\n",
       "    <tr>\n",
       "      <th>998</th>\n",
       "      <td>999</td>\n",
       "      <td>Moody Ltd</td>\n",
       "      <td>Grocery Store</td>\n",
       "      <td>17580 Ernest Hills\\nLake Michaelmouth, OR 56416</td>\n",
       "      <td>Stevenchester</td>\n",
       "      <td>637.300.3664x4880</td>\n",
       "    </tr>\n",
       "    <tr>\n",
       "      <th>999</th>\n",
       "      <td>1000</td>\n",
       "      <td>Jenkins-Brooks</td>\n",
       "      <td>Restaurant</td>\n",
       "      <td>53390 Evans Rapids Suite 982\\nLake Meghan, MO ...</td>\n",
       "      <td>Brendantown</td>\n",
       "      <td>266-324-3458x95775</td>\n",
       "    </tr>\n",
       "  </tbody>\n",
       "</table>\n",
       "<p>1000 rows × 6 columns</p>\n",
       "</div>"
      ],
      "text/plain": [
       "     Provider_ID                         Name              Type  \\\n",
       "0              1             Gonzales-Cochran       Supermarket   \n",
       "1              2  Nielsen, Johnson and Fuller     Grocery Store   \n",
       "2              3                 Miller-Black       Supermarket   \n",
       "3              4   Clark, Prince and Williams     Grocery Store   \n",
       "4              5               Coleman-Farley     Grocery Store   \n",
       "..           ...                          ...               ...   \n",
       "995          996    Vasquez, Ruiz and Flowers        Restaurant   \n",
       "996          997               Garza-Williams  Catering Service   \n",
       "997          998                  Novak Group     Grocery Store   \n",
       "998          999                    Moody Ltd     Grocery Store   \n",
       "999         1000               Jenkins-Brooks        Restaurant   \n",
       "\n",
       "                                               Address            City  \\\n",
       "0    74347 Christopher Extensions\\nAndreamouth, OK ...     New Jessica   \n",
       "1             91228 Hanson Stream\\nWelchtown, OR 27136     East Sheena   \n",
       "2    561 Martinez Point Suite 507\\nGuzmanchester, W...  Lake Jesusview   \n",
       "3       467 Bell Trail Suite 409\\nPort Jesus, IA 61188     Mendezmouth   \n",
       "4    078 Matthew Creek Apt. 319\\nSaraborough, MA 53978   Valentineside   \n",
       "..                                                 ...             ...   \n",
       "995    84308 Justin Stravenue\\nNew Amberside, NE 53447     Williamview   \n",
       "996  08864 Figueroa Radial Suite 948\\nJennaberg, AZ...   East Rossside   \n",
       "997            934 Zachary Run\\nMelissamouth, WY 02729      Joshuastad   \n",
       "998    17580 Ernest Hills\\nLake Michaelmouth, OR 56416   Stevenchester   \n",
       "999  53390 Evans Rapids Suite 982\\nLake Meghan, MO ...     Brendantown   \n",
       "\n",
       "                  Contact  \n",
       "0         +1-600-220-0480  \n",
       "1    +1-925-283-8901x6297  \n",
       "2        001-517-295-2206  \n",
       "3        556.944.8935x401  \n",
       "4            193.714.6577  \n",
       "..                    ...  \n",
       "995  +1-319-378-7627x0682  \n",
       "996  001-924-441-3963x746  \n",
       "997    (903)642-1969x3300  \n",
       "998     637.300.3664x4880  \n",
       "999    266-324-3458x95775  \n",
       "\n",
       "[1000 rows x 6 columns]"
      ]
     },
     "execution_count": 4,
     "metadata": {},
     "output_type": "execute_result"
    }
   ],
   "source": [
    "providers_data"
   ]
  },
  {
   "cell_type": "code",
   "execution_count": 5,
   "id": "511eeaa8",
   "metadata": {},
   "outputs": [
    {
     "data": {
      "text/plain": [
       "Provider_ID    0\n",
       "Name           0\n",
       "Type           0\n",
       "Address        0\n",
       "City           0\n",
       "Contact        0\n",
       "dtype: int64"
      ]
     },
     "execution_count": 5,
     "metadata": {},
     "output_type": "execute_result"
    }
   ],
   "source": [
    "providers_data.isna().sum()"
   ]
  },
  {
   "cell_type": "code",
   "execution_count": 6,
   "id": "f807e106",
   "metadata": {},
   "outputs": [
    {
     "name": "stdout",
     "output_type": "stream",
     "text": [
      "<class 'pandas.core.frame.DataFrame'>\n",
      "RangeIndex: 1000 entries, 0 to 999\n",
      "Data columns (total 6 columns):\n",
      " #   Column       Non-Null Count  Dtype \n",
      "---  ------       --------------  ----- \n",
      " 0   Provider_ID  1000 non-null   int64 \n",
      " 1   Name         1000 non-null   object\n",
      " 2   Type         1000 non-null   object\n",
      " 3   Address      1000 non-null   object\n",
      " 4   City         1000 non-null   object\n",
      " 5   Contact      1000 non-null   object\n",
      "dtypes: int64(1), object(5)\n",
      "memory usage: 47.0+ KB\n"
     ]
    }
   ],
   "source": [
    "providers_data.info()"
   ]
  },
  {
   "cell_type": "code",
   "execution_count": 7,
   "id": "565ee684",
   "metadata": {},
   "outputs": [
    {
     "data": {
      "text/html": [
       "<div>\n",
       "<style scoped>\n",
       "    .dataframe tbody tr th:only-of-type {\n",
       "        vertical-align: middle;\n",
       "    }\n",
       "\n",
       "    .dataframe tbody tr th {\n",
       "        vertical-align: top;\n",
       "    }\n",
       "\n",
       "    .dataframe thead th {\n",
       "        text-align: right;\n",
       "    }\n",
       "</style>\n",
       "<table border=\"1\" class=\"dataframe\">\n",
       "  <thead>\n",
       "    <tr style=\"text-align: right;\">\n",
       "      <th></th>\n",
       "      <th>Receiver_ID</th>\n",
       "      <th>Name</th>\n",
       "      <th>Type</th>\n",
       "      <th>City</th>\n",
       "      <th>Contact</th>\n",
       "    </tr>\n",
       "  </thead>\n",
       "  <tbody>\n",
       "    <tr>\n",
       "      <th>0</th>\n",
       "      <td>1</td>\n",
       "      <td>Donald Gomez</td>\n",
       "      <td>Shelter</td>\n",
       "      <td>Port Carlburgh</td>\n",
       "      <td>(955)922-5295</td>\n",
       "    </tr>\n",
       "    <tr>\n",
       "      <th>1</th>\n",
       "      <td>2</td>\n",
       "      <td>Laurie Ramos</td>\n",
       "      <td>Individual</td>\n",
       "      <td>Lewisburgh</td>\n",
       "      <td>761.042.1570</td>\n",
       "    </tr>\n",
       "    <tr>\n",
       "      <th>2</th>\n",
       "      <td>3</td>\n",
       "      <td>Ashley Mckee</td>\n",
       "      <td>NGO</td>\n",
       "      <td>South Randalltown</td>\n",
       "      <td>691-023-0094x856</td>\n",
       "    </tr>\n",
       "    <tr>\n",
       "      <th>3</th>\n",
       "      <td>4</td>\n",
       "      <td>Erika Rose</td>\n",
       "      <td>NGO</td>\n",
       "      <td>South Shaneville</td>\n",
       "      <td>8296491111</td>\n",
       "    </tr>\n",
       "    <tr>\n",
       "      <th>4</th>\n",
       "      <td>5</td>\n",
       "      <td>John Romero</td>\n",
       "      <td>Individual</td>\n",
       "      <td>Bakerport</td>\n",
       "      <td>067.491.0154</td>\n",
       "    </tr>\n",
       "    <tr>\n",
       "      <th>...</th>\n",
       "      <td>...</td>\n",
       "      <td>...</td>\n",
       "      <td>...</td>\n",
       "      <td>...</td>\n",
       "      <td>...</td>\n",
       "    </tr>\n",
       "    <tr>\n",
       "      <th>995</th>\n",
       "      <td>996</td>\n",
       "      <td>Matthew Curtis</td>\n",
       "      <td>Shelter</td>\n",
       "      <td>Lanechester</td>\n",
       "      <td>127-889-4442x1289</td>\n",
       "    </tr>\n",
       "    <tr>\n",
       "      <th>996</th>\n",
       "      <td>997</td>\n",
       "      <td>Amanda Cain</td>\n",
       "      <td>NGO</td>\n",
       "      <td>New Steven</td>\n",
       "      <td>+1-001-491-5601x5316</td>\n",
       "    </tr>\n",
       "    <tr>\n",
       "      <th>997</th>\n",
       "      <td>998</td>\n",
       "      <td>Theodore Briggs</td>\n",
       "      <td>Individual</td>\n",
       "      <td>South Sandra</td>\n",
       "      <td>930-609-9442x5031</td>\n",
       "    </tr>\n",
       "    <tr>\n",
       "      <th>998</th>\n",
       "      <td>999</td>\n",
       "      <td>Cheyenne Ramsey</td>\n",
       "      <td>NGO</td>\n",
       "      <td>Lake Jeffery</td>\n",
       "      <td>001-326-320-4816x15300</td>\n",
       "    </tr>\n",
       "    <tr>\n",
       "      <th>999</th>\n",
       "      <td>1000</td>\n",
       "      <td>April Miller</td>\n",
       "      <td>Shelter</td>\n",
       "      <td>Shelbychester</td>\n",
       "      <td>894-873-2652x23999</td>\n",
       "    </tr>\n",
       "  </tbody>\n",
       "</table>\n",
       "<p>1000 rows × 5 columns</p>\n",
       "</div>"
      ],
      "text/plain": [
       "     Receiver_ID             Name        Type               City  \\\n",
       "0              1     Donald Gomez     Shelter     Port Carlburgh   \n",
       "1              2     Laurie Ramos  Individual         Lewisburgh   \n",
       "2              3     Ashley Mckee         NGO  South Randalltown   \n",
       "3              4       Erika Rose         NGO   South Shaneville   \n",
       "4              5      John Romero  Individual          Bakerport   \n",
       "..           ...              ...         ...                ...   \n",
       "995          996   Matthew Curtis     Shelter        Lanechester   \n",
       "996          997      Amanda Cain         NGO         New Steven   \n",
       "997          998  Theodore Briggs  Individual       South Sandra   \n",
       "998          999  Cheyenne Ramsey         NGO       Lake Jeffery   \n",
       "999         1000     April Miller     Shelter      Shelbychester   \n",
       "\n",
       "                    Contact  \n",
       "0             (955)922-5295  \n",
       "1              761.042.1570  \n",
       "2          691-023-0094x856  \n",
       "3                8296491111  \n",
       "4              067.491.0154  \n",
       "..                      ...  \n",
       "995       127-889-4442x1289  \n",
       "996    +1-001-491-5601x5316  \n",
       "997       930-609-9442x5031  \n",
       "998  001-326-320-4816x15300  \n",
       "999      894-873-2652x23999  \n",
       "\n",
       "[1000 rows x 5 columns]"
      ]
     },
     "execution_count": 7,
     "metadata": {},
     "output_type": "execute_result"
    }
   ],
   "source": [
    "recivers_data"
   ]
  },
  {
   "cell_type": "code",
   "execution_count": 8,
   "id": "39a78b69",
   "metadata": {},
   "outputs": [
    {
     "data": {
      "text/plain": [
       "Receiver_ID    0\n",
       "Name           0\n",
       "Type           0\n",
       "City           0\n",
       "Contact        0\n",
       "dtype: int64"
      ]
     },
     "execution_count": 8,
     "metadata": {},
     "output_type": "execute_result"
    }
   ],
   "source": [
    "recivers_data.isna().sum()"
   ]
  },
  {
   "cell_type": "code",
   "execution_count": 9,
   "id": "8212e56c",
   "metadata": {},
   "outputs": [
    {
     "name": "stdout",
     "output_type": "stream",
     "text": [
      "<class 'pandas.core.frame.DataFrame'>\n",
      "RangeIndex: 1000 entries, 0 to 999\n",
      "Data columns (total 5 columns):\n",
      " #   Column       Non-Null Count  Dtype \n",
      "---  ------       --------------  ----- \n",
      " 0   Receiver_ID  1000 non-null   int64 \n",
      " 1   Name         1000 non-null   object\n",
      " 2   Type         1000 non-null   object\n",
      " 3   City         1000 non-null   object\n",
      " 4   Contact      1000 non-null   object\n",
      "dtypes: int64(1), object(4)\n",
      "memory usage: 39.2+ KB\n"
     ]
    }
   ],
   "source": [
    "recivers_data.info()"
   ]
  },
  {
   "cell_type": "code",
   "execution_count": 10,
   "id": "62f667af",
   "metadata": {},
   "outputs": [
    {
     "data": {
      "text/html": [
       "<div>\n",
       "<style scoped>\n",
       "    .dataframe tbody tr th:only-of-type {\n",
       "        vertical-align: middle;\n",
       "    }\n",
       "\n",
       "    .dataframe tbody tr th {\n",
       "        vertical-align: top;\n",
       "    }\n",
       "\n",
       "    .dataframe thead th {\n",
       "        text-align: right;\n",
       "    }\n",
       "</style>\n",
       "<table border=\"1\" class=\"dataframe\">\n",
       "  <thead>\n",
       "    <tr style=\"text-align: right;\">\n",
       "      <th></th>\n",
       "      <th>Food_ID</th>\n",
       "      <th>Food_Name</th>\n",
       "      <th>Quantity</th>\n",
       "      <th>Expiry_Date</th>\n",
       "      <th>Provider_ID</th>\n",
       "      <th>Provider_Type</th>\n",
       "      <th>Location</th>\n",
       "      <th>Food_Type</th>\n",
       "      <th>Meal_Type</th>\n",
       "    </tr>\n",
       "  </thead>\n",
       "  <tbody>\n",
       "    <tr>\n",
       "      <th>0</th>\n",
       "      <td>1</td>\n",
       "      <td>Bread</td>\n",
       "      <td>43</td>\n",
       "      <td>3/17/2025</td>\n",
       "      <td>110</td>\n",
       "      <td>Grocery Store</td>\n",
       "      <td>South Kellyville</td>\n",
       "      <td>Non-Vegetarian</td>\n",
       "      <td>Breakfast</td>\n",
       "    </tr>\n",
       "    <tr>\n",
       "      <th>1</th>\n",
       "      <td>2</td>\n",
       "      <td>Soup</td>\n",
       "      <td>22</td>\n",
       "      <td>3/24/2025</td>\n",
       "      <td>791</td>\n",
       "      <td>Grocery Store</td>\n",
       "      <td>West James</td>\n",
       "      <td>Non-Vegetarian</td>\n",
       "      <td>Dinner</td>\n",
       "    </tr>\n",
       "    <tr>\n",
       "      <th>2</th>\n",
       "      <td>3</td>\n",
       "      <td>Fruits</td>\n",
       "      <td>46</td>\n",
       "      <td>3/28/2025</td>\n",
       "      <td>478</td>\n",
       "      <td>Catering Service</td>\n",
       "      <td>Lake Regina</td>\n",
       "      <td>Vegan</td>\n",
       "      <td>Breakfast</td>\n",
       "    </tr>\n",
       "    <tr>\n",
       "      <th>3</th>\n",
       "      <td>4</td>\n",
       "      <td>Fruits</td>\n",
       "      <td>15</td>\n",
       "      <td>3/16/2025</td>\n",
       "      <td>930</td>\n",
       "      <td>Restaurant</td>\n",
       "      <td>Kellytown</td>\n",
       "      <td>Vegan</td>\n",
       "      <td>Lunch</td>\n",
       "    </tr>\n",
       "    <tr>\n",
       "      <th>4</th>\n",
       "      <td>5</td>\n",
       "      <td>Soup</td>\n",
       "      <td>14</td>\n",
       "      <td>3/19/2025</td>\n",
       "      <td>279</td>\n",
       "      <td>Restaurant</td>\n",
       "      <td>Garciaport</td>\n",
       "      <td>Vegan</td>\n",
       "      <td>Dinner</td>\n",
       "    </tr>\n",
       "    <tr>\n",
       "      <th>...</th>\n",
       "      <td>...</td>\n",
       "      <td>...</td>\n",
       "      <td>...</td>\n",
       "      <td>...</td>\n",
       "      <td>...</td>\n",
       "      <td>...</td>\n",
       "      <td>...</td>\n",
       "      <td>...</td>\n",
       "      <td>...</td>\n",
       "    </tr>\n",
       "    <tr>\n",
       "      <th>995</th>\n",
       "      <td>996</td>\n",
       "      <td>Fish</td>\n",
       "      <td>15</td>\n",
       "      <td>3/30/2025</td>\n",
       "      <td>467</td>\n",
       "      <td>Catering Service</td>\n",
       "      <td>Phillipsfort</td>\n",
       "      <td>Vegan</td>\n",
       "      <td>Breakfast</td>\n",
       "    </tr>\n",
       "    <tr>\n",
       "      <th>996</th>\n",
       "      <td>997</td>\n",
       "      <td>Fish</td>\n",
       "      <td>22</td>\n",
       "      <td>3/18/2025</td>\n",
       "      <td>35</td>\n",
       "      <td>Grocery Store</td>\n",
       "      <td>Andersonmouth</td>\n",
       "      <td>Vegetarian</td>\n",
       "      <td>Breakfast</td>\n",
       "    </tr>\n",
       "    <tr>\n",
       "      <th>997</th>\n",
       "      <td>998</td>\n",
       "      <td>Fruits</td>\n",
       "      <td>6</td>\n",
       "      <td>3/22/2025</td>\n",
       "      <td>444</td>\n",
       "      <td>Restaurant</td>\n",
       "      <td>New Billy</td>\n",
       "      <td>Non-Vegetarian</td>\n",
       "      <td>Dinner</td>\n",
       "    </tr>\n",
       "    <tr>\n",
       "      <th>998</th>\n",
       "      <td>999</td>\n",
       "      <td>Pasta</td>\n",
       "      <td>15</td>\n",
       "      <td>3/30/2025</td>\n",
       "      <td>702</td>\n",
       "      <td>Supermarket</td>\n",
       "      <td>Lake Mistyton</td>\n",
       "      <td>Non-Vegetarian</td>\n",
       "      <td>Lunch</td>\n",
       "    </tr>\n",
       "    <tr>\n",
       "      <th>999</th>\n",
       "      <td>1000</td>\n",
       "      <td>Salad</td>\n",
       "      <td>18</td>\n",
       "      <td>3/19/2025</td>\n",
       "      <td>155</td>\n",
       "      <td>Supermarket</td>\n",
       "      <td>Charlesview</td>\n",
       "      <td>Non-Vegetarian</td>\n",
       "      <td>Dinner</td>\n",
       "    </tr>\n",
       "  </tbody>\n",
       "</table>\n",
       "<p>1000 rows × 9 columns</p>\n",
       "</div>"
      ],
      "text/plain": [
       "     Food_ID Food_Name  Quantity Expiry_Date  Provider_ID     Provider_Type  \\\n",
       "0          1     Bread        43   3/17/2025          110     Grocery Store   \n",
       "1          2      Soup        22   3/24/2025          791     Grocery Store   \n",
       "2          3    Fruits        46   3/28/2025          478  Catering Service   \n",
       "3          4    Fruits        15   3/16/2025          930        Restaurant   \n",
       "4          5      Soup        14   3/19/2025          279        Restaurant   \n",
       "..       ...       ...       ...         ...          ...               ...   \n",
       "995      996      Fish        15   3/30/2025          467  Catering Service   \n",
       "996      997      Fish        22   3/18/2025           35     Grocery Store   \n",
       "997      998    Fruits         6   3/22/2025          444        Restaurant   \n",
       "998      999     Pasta        15   3/30/2025          702       Supermarket   \n",
       "999     1000     Salad        18   3/19/2025          155       Supermarket   \n",
       "\n",
       "             Location       Food_Type  Meal_Type  \n",
       "0    South Kellyville  Non-Vegetarian  Breakfast  \n",
       "1          West James  Non-Vegetarian     Dinner  \n",
       "2         Lake Regina           Vegan  Breakfast  \n",
       "3           Kellytown           Vegan      Lunch  \n",
       "4          Garciaport           Vegan     Dinner  \n",
       "..                ...             ...        ...  \n",
       "995      Phillipsfort           Vegan  Breakfast  \n",
       "996     Andersonmouth      Vegetarian  Breakfast  \n",
       "997         New Billy  Non-Vegetarian     Dinner  \n",
       "998     Lake Mistyton  Non-Vegetarian      Lunch  \n",
       "999       Charlesview  Non-Vegetarian     Dinner  \n",
       "\n",
       "[1000 rows x 9 columns]"
      ]
     },
     "execution_count": 10,
     "metadata": {},
     "output_type": "execute_result"
    }
   ],
   "source": [
    "foodlisting_data"
   ]
  },
  {
   "cell_type": "code",
   "execution_count": 11,
   "id": "dfdb9fd2",
   "metadata": {},
   "outputs": [
    {
     "data": {
      "text/plain": [
       "Food_ID          0\n",
       "Food_Name        0\n",
       "Quantity         0\n",
       "Expiry_Date      0\n",
       "Provider_ID      0\n",
       "Provider_Type    0\n",
       "Location         0\n",
       "Food_Type        0\n",
       "Meal_Type        0\n",
       "dtype: int64"
      ]
     },
     "execution_count": 11,
     "metadata": {},
     "output_type": "execute_result"
    }
   ],
   "source": [
    "foodlisting_data.isna().sum()"
   ]
  },
  {
   "cell_type": "code",
   "execution_count": 12,
   "id": "d91b7299",
   "metadata": {},
   "outputs": [
    {
     "name": "stdout",
     "output_type": "stream",
     "text": [
      "<class 'pandas.core.frame.DataFrame'>\n",
      "RangeIndex: 1000 entries, 0 to 999\n",
      "Data columns (total 9 columns):\n",
      " #   Column         Non-Null Count  Dtype \n",
      "---  ------         --------------  ----- \n",
      " 0   Food_ID        1000 non-null   int64 \n",
      " 1   Food_Name      1000 non-null   object\n",
      " 2   Quantity       1000 non-null   int64 \n",
      " 3   Expiry_Date    1000 non-null   object\n",
      " 4   Provider_ID    1000 non-null   int64 \n",
      " 5   Provider_Type  1000 non-null   object\n",
      " 6   Location       1000 non-null   object\n",
      " 7   Food_Type      1000 non-null   object\n",
      " 8   Meal_Type      1000 non-null   object\n",
      "dtypes: int64(3), object(6)\n",
      "memory usage: 70.4+ KB\n"
     ]
    }
   ],
   "source": [
    "foodlisting_data.info()"
   ]
  },
  {
   "cell_type": "code",
   "execution_count": 13,
   "id": "7c7ec9b2",
   "metadata": {},
   "outputs": [
    {
     "data": {
      "text/html": [
       "<div>\n",
       "<style scoped>\n",
       "    .dataframe tbody tr th:only-of-type {\n",
       "        vertical-align: middle;\n",
       "    }\n",
       "\n",
       "    .dataframe tbody tr th {\n",
       "        vertical-align: top;\n",
       "    }\n",
       "\n",
       "    .dataframe thead th {\n",
       "        text-align: right;\n",
       "    }\n",
       "</style>\n",
       "<table border=\"1\" class=\"dataframe\">\n",
       "  <thead>\n",
       "    <tr style=\"text-align: right;\">\n",
       "      <th></th>\n",
       "      <th>Food_ID</th>\n",
       "      <th>Food_Name</th>\n",
       "      <th>Quantity</th>\n",
       "      <th>Expiry_Date</th>\n",
       "      <th>Provider_ID</th>\n",
       "      <th>Provider_Type</th>\n",
       "      <th>Location</th>\n",
       "      <th>Food_Type</th>\n",
       "      <th>Meal_Type</th>\n",
       "    </tr>\n",
       "  </thead>\n",
       "  <tbody>\n",
       "    <tr>\n",
       "      <th>0</th>\n",
       "      <td>1</td>\n",
       "      <td>Bread</td>\n",
       "      <td>43</td>\n",
       "      <td>2025-03-17</td>\n",
       "      <td>110</td>\n",
       "      <td>Grocery Store</td>\n",
       "      <td>South Kellyville</td>\n",
       "      <td>Non-Vegetarian</td>\n",
       "      <td>Breakfast</td>\n",
       "    </tr>\n",
       "    <tr>\n",
       "      <th>1</th>\n",
       "      <td>2</td>\n",
       "      <td>Soup</td>\n",
       "      <td>22</td>\n",
       "      <td>2025-03-24</td>\n",
       "      <td>791</td>\n",
       "      <td>Grocery Store</td>\n",
       "      <td>West James</td>\n",
       "      <td>Non-Vegetarian</td>\n",
       "      <td>Dinner</td>\n",
       "    </tr>\n",
       "    <tr>\n",
       "      <th>2</th>\n",
       "      <td>3</td>\n",
       "      <td>Fruits</td>\n",
       "      <td>46</td>\n",
       "      <td>2025-03-28</td>\n",
       "      <td>478</td>\n",
       "      <td>Catering Service</td>\n",
       "      <td>Lake Regina</td>\n",
       "      <td>Vegan</td>\n",
       "      <td>Breakfast</td>\n",
       "    </tr>\n",
       "    <tr>\n",
       "      <th>3</th>\n",
       "      <td>4</td>\n",
       "      <td>Fruits</td>\n",
       "      <td>15</td>\n",
       "      <td>2025-03-16</td>\n",
       "      <td>930</td>\n",
       "      <td>Restaurant</td>\n",
       "      <td>Kellytown</td>\n",
       "      <td>Vegan</td>\n",
       "      <td>Lunch</td>\n",
       "    </tr>\n",
       "    <tr>\n",
       "      <th>4</th>\n",
       "      <td>5</td>\n",
       "      <td>Soup</td>\n",
       "      <td>14</td>\n",
       "      <td>2025-03-19</td>\n",
       "      <td>279</td>\n",
       "      <td>Restaurant</td>\n",
       "      <td>Garciaport</td>\n",
       "      <td>Vegan</td>\n",
       "      <td>Dinner</td>\n",
       "    </tr>\n",
       "    <tr>\n",
       "      <th>...</th>\n",
       "      <td>...</td>\n",
       "      <td>...</td>\n",
       "      <td>...</td>\n",
       "      <td>...</td>\n",
       "      <td>...</td>\n",
       "      <td>...</td>\n",
       "      <td>...</td>\n",
       "      <td>...</td>\n",
       "      <td>...</td>\n",
       "    </tr>\n",
       "    <tr>\n",
       "      <th>995</th>\n",
       "      <td>996</td>\n",
       "      <td>Fish</td>\n",
       "      <td>15</td>\n",
       "      <td>2025-03-30</td>\n",
       "      <td>467</td>\n",
       "      <td>Catering Service</td>\n",
       "      <td>Phillipsfort</td>\n",
       "      <td>Vegan</td>\n",
       "      <td>Breakfast</td>\n",
       "    </tr>\n",
       "    <tr>\n",
       "      <th>996</th>\n",
       "      <td>997</td>\n",
       "      <td>Fish</td>\n",
       "      <td>22</td>\n",
       "      <td>2025-03-18</td>\n",
       "      <td>35</td>\n",
       "      <td>Grocery Store</td>\n",
       "      <td>Andersonmouth</td>\n",
       "      <td>Vegetarian</td>\n",
       "      <td>Breakfast</td>\n",
       "    </tr>\n",
       "    <tr>\n",
       "      <th>997</th>\n",
       "      <td>998</td>\n",
       "      <td>Fruits</td>\n",
       "      <td>6</td>\n",
       "      <td>2025-03-22</td>\n",
       "      <td>444</td>\n",
       "      <td>Restaurant</td>\n",
       "      <td>New Billy</td>\n",
       "      <td>Non-Vegetarian</td>\n",
       "      <td>Dinner</td>\n",
       "    </tr>\n",
       "    <tr>\n",
       "      <th>998</th>\n",
       "      <td>999</td>\n",
       "      <td>Pasta</td>\n",
       "      <td>15</td>\n",
       "      <td>2025-03-30</td>\n",
       "      <td>702</td>\n",
       "      <td>Supermarket</td>\n",
       "      <td>Lake Mistyton</td>\n",
       "      <td>Non-Vegetarian</td>\n",
       "      <td>Lunch</td>\n",
       "    </tr>\n",
       "    <tr>\n",
       "      <th>999</th>\n",
       "      <td>1000</td>\n",
       "      <td>Salad</td>\n",
       "      <td>18</td>\n",
       "      <td>2025-03-19</td>\n",
       "      <td>155</td>\n",
       "      <td>Supermarket</td>\n",
       "      <td>Charlesview</td>\n",
       "      <td>Non-Vegetarian</td>\n",
       "      <td>Dinner</td>\n",
       "    </tr>\n",
       "  </tbody>\n",
       "</table>\n",
       "<p>1000 rows × 9 columns</p>\n",
       "</div>"
      ],
      "text/plain": [
       "     Food_ID Food_Name  Quantity Expiry_Date  Provider_ID     Provider_Type  \\\n",
       "0          1     Bread        43  2025-03-17          110     Grocery Store   \n",
       "1          2      Soup        22  2025-03-24          791     Grocery Store   \n",
       "2          3    Fruits        46  2025-03-28          478  Catering Service   \n",
       "3          4    Fruits        15  2025-03-16          930        Restaurant   \n",
       "4          5      Soup        14  2025-03-19          279        Restaurant   \n",
       "..       ...       ...       ...         ...          ...               ...   \n",
       "995      996      Fish        15  2025-03-30          467  Catering Service   \n",
       "996      997      Fish        22  2025-03-18           35     Grocery Store   \n",
       "997      998    Fruits         6  2025-03-22          444        Restaurant   \n",
       "998      999     Pasta        15  2025-03-30          702       Supermarket   \n",
       "999     1000     Salad        18  2025-03-19          155       Supermarket   \n",
       "\n",
       "             Location       Food_Type  Meal_Type  \n",
       "0    South Kellyville  Non-Vegetarian  Breakfast  \n",
       "1          West James  Non-Vegetarian     Dinner  \n",
       "2         Lake Regina           Vegan  Breakfast  \n",
       "3           Kellytown           Vegan      Lunch  \n",
       "4          Garciaport           Vegan     Dinner  \n",
       "..                ...             ...        ...  \n",
       "995      Phillipsfort           Vegan  Breakfast  \n",
       "996     Andersonmouth      Vegetarian  Breakfast  \n",
       "997         New Billy  Non-Vegetarian     Dinner  \n",
       "998     Lake Mistyton  Non-Vegetarian      Lunch  \n",
       "999       Charlesview  Non-Vegetarian     Dinner  \n",
       "\n",
       "[1000 rows x 9 columns]"
      ]
     },
     "execution_count": 13,
     "metadata": {},
     "output_type": "execute_result"
    }
   ],
   "source": [
    "foodlisting_data['Expiry_Date']= pd.to_datetime(foodlisting_data['Expiry_Date'])\n",
    "foodlisting_data"
   ]
  },
  {
   "cell_type": "code",
   "execution_count": 14,
   "id": "85344f98",
   "metadata": {},
   "outputs": [
    {
     "name": "stdout",
     "output_type": "stream",
     "text": [
      "<class 'pandas.core.frame.DataFrame'>\n",
      "RangeIndex: 1000 entries, 0 to 999\n",
      "Data columns (total 9 columns):\n",
      " #   Column         Non-Null Count  Dtype         \n",
      "---  ------         --------------  -----         \n",
      " 0   Food_ID        1000 non-null   int64         \n",
      " 1   Food_Name      1000 non-null   object        \n",
      " 2   Quantity       1000 non-null   int64         \n",
      " 3   Expiry_Date    1000 non-null   datetime64[ns]\n",
      " 4   Provider_ID    1000 non-null   int64         \n",
      " 5   Provider_Type  1000 non-null   object        \n",
      " 6   Location       1000 non-null   object        \n",
      " 7   Food_Type      1000 non-null   object        \n",
      " 8   Meal_Type      1000 non-null   object        \n",
      "dtypes: datetime64[ns](1), int64(3), object(5)\n",
      "memory usage: 70.4+ KB\n"
     ]
    }
   ],
   "source": [
    "foodlisting_data.info()"
   ]
  },
  {
   "cell_type": "code",
   "execution_count": 15,
   "id": "db6a2867",
   "metadata": {},
   "outputs": [
    {
     "data": {
      "text/html": [
       "<div>\n",
       "<style scoped>\n",
       "    .dataframe tbody tr th:only-of-type {\n",
       "        vertical-align: middle;\n",
       "    }\n",
       "\n",
       "    .dataframe tbody tr th {\n",
       "        vertical-align: top;\n",
       "    }\n",
       "\n",
       "    .dataframe thead th {\n",
       "        text-align: right;\n",
       "    }\n",
       "</style>\n",
       "<table border=\"1\" class=\"dataframe\">\n",
       "  <thead>\n",
       "    <tr style=\"text-align: right;\">\n",
       "      <th></th>\n",
       "      <th>Claim_ID</th>\n",
       "      <th>Food_ID</th>\n",
       "      <th>Receiver_ID</th>\n",
       "      <th>Status</th>\n",
       "      <th>Timestamp</th>\n",
       "    </tr>\n",
       "  </thead>\n",
       "  <tbody>\n",
       "    <tr>\n",
       "      <th>0</th>\n",
       "      <td>1</td>\n",
       "      <td>164</td>\n",
       "      <td>908</td>\n",
       "      <td>Pending</td>\n",
       "      <td>3/5/2025 5:26</td>\n",
       "    </tr>\n",
       "    <tr>\n",
       "      <th>1</th>\n",
       "      <td>2</td>\n",
       "      <td>353</td>\n",
       "      <td>391</td>\n",
       "      <td>Cancelled</td>\n",
       "      <td>3/11/2025 10:24</td>\n",
       "    </tr>\n",
       "    <tr>\n",
       "      <th>2</th>\n",
       "      <td>3</td>\n",
       "      <td>626</td>\n",
       "      <td>492</td>\n",
       "      <td>Completed</td>\n",
       "      <td>3/21/2025 0:59</td>\n",
       "    </tr>\n",
       "    <tr>\n",
       "      <th>3</th>\n",
       "      <td>4</td>\n",
       "      <td>61</td>\n",
       "      <td>933</td>\n",
       "      <td>Cancelled</td>\n",
       "      <td>3/4/2025 9:08</td>\n",
       "    </tr>\n",
       "    <tr>\n",
       "      <th>4</th>\n",
       "      <td>5</td>\n",
       "      <td>345</td>\n",
       "      <td>229</td>\n",
       "      <td>Pending</td>\n",
       "      <td>3/14/2025 15:17</td>\n",
       "    </tr>\n",
       "    <tr>\n",
       "      <th>...</th>\n",
       "      <td>...</td>\n",
       "      <td>...</td>\n",
       "      <td>...</td>\n",
       "      <td>...</td>\n",
       "      <td>...</td>\n",
       "    </tr>\n",
       "    <tr>\n",
       "      <th>995</th>\n",
       "      <td>996</td>\n",
       "      <td>855</td>\n",
       "      <td>211</td>\n",
       "      <td>Completed</td>\n",
       "      <td>3/13/2025 19:40</td>\n",
       "    </tr>\n",
       "    <tr>\n",
       "      <th>996</th>\n",
       "      <td>997</td>\n",
       "      <td>980</td>\n",
       "      <td>746</td>\n",
       "      <td>Cancelled</td>\n",
       "      <td>3/17/2025 22:04</td>\n",
       "    </tr>\n",
       "    <tr>\n",
       "      <th>997</th>\n",
       "      <td>998</td>\n",
       "      <td>832</td>\n",
       "      <td>967</td>\n",
       "      <td>Cancelled</td>\n",
       "      <td>3/13/2025 18:00</td>\n",
       "    </tr>\n",
       "    <tr>\n",
       "      <th>998</th>\n",
       "      <td>999</td>\n",
       "      <td>917</td>\n",
       "      <td>90</td>\n",
       "      <td>Completed</td>\n",
       "      <td>3/1/2025 15:31</td>\n",
       "    </tr>\n",
       "    <tr>\n",
       "      <th>999</th>\n",
       "      <td>1000</td>\n",
       "      <td>596</td>\n",
       "      <td>950</td>\n",
       "      <td>Cancelled</td>\n",
       "      <td>3/13/2025 12:51</td>\n",
       "    </tr>\n",
       "  </tbody>\n",
       "</table>\n",
       "<p>1000 rows × 5 columns</p>\n",
       "</div>"
      ],
      "text/plain": [
       "     Claim_ID  Food_ID  Receiver_ID     Status        Timestamp\n",
       "0           1      164          908    Pending    3/5/2025 5:26\n",
       "1           2      353          391  Cancelled  3/11/2025 10:24\n",
       "2           3      626          492  Completed   3/21/2025 0:59\n",
       "3           4       61          933  Cancelled    3/4/2025 9:08\n",
       "4           5      345          229    Pending  3/14/2025 15:17\n",
       "..        ...      ...          ...        ...              ...\n",
       "995       996      855          211  Completed  3/13/2025 19:40\n",
       "996       997      980          746  Cancelled  3/17/2025 22:04\n",
       "997       998      832          967  Cancelled  3/13/2025 18:00\n",
       "998       999      917           90  Completed   3/1/2025 15:31\n",
       "999      1000      596          950  Cancelled  3/13/2025 12:51\n",
       "\n",
       "[1000 rows x 5 columns]"
      ]
     },
     "execution_count": 15,
     "metadata": {},
     "output_type": "execute_result"
    }
   ],
   "source": [
    "claims_data"
   ]
  },
  {
   "cell_type": "code",
   "execution_count": 16,
   "id": "3946317b",
   "metadata": {},
   "outputs": [
    {
     "data": {
      "text/plain": [
       "Claim_ID       0\n",
       "Food_ID        0\n",
       "Receiver_ID    0\n",
       "Status         0\n",
       "Timestamp      0\n",
       "dtype: int64"
      ]
     },
     "execution_count": 16,
     "metadata": {},
     "output_type": "execute_result"
    }
   ],
   "source": [
    "claims_data.isna().sum()"
   ]
  },
  {
   "cell_type": "code",
   "execution_count": 17,
   "id": "b3ab7c39",
   "metadata": {},
   "outputs": [
    {
     "name": "stdout",
     "output_type": "stream",
     "text": [
      "<class 'pandas.core.frame.DataFrame'>\n",
      "RangeIndex: 1000 entries, 0 to 999\n",
      "Data columns (total 5 columns):\n",
      " #   Column       Non-Null Count  Dtype \n",
      "---  ------       --------------  ----- \n",
      " 0   Claim_ID     1000 non-null   int64 \n",
      " 1   Food_ID      1000 non-null   int64 \n",
      " 2   Receiver_ID  1000 non-null   int64 \n",
      " 3   Status       1000 non-null   object\n",
      " 4   Timestamp    1000 non-null   object\n",
      "dtypes: int64(3), object(2)\n",
      "memory usage: 39.2+ KB\n"
     ]
    }
   ],
   "source": [
    "claims_data.info()"
   ]
  },
  {
   "cell_type": "code",
   "execution_count": 18,
   "id": "a13ba15f",
   "metadata": {},
   "outputs": [
    {
     "data": {
      "text/html": [
       "<div>\n",
       "<style scoped>\n",
       "    .dataframe tbody tr th:only-of-type {\n",
       "        vertical-align: middle;\n",
       "    }\n",
       "\n",
       "    .dataframe tbody tr th {\n",
       "        vertical-align: top;\n",
       "    }\n",
       "\n",
       "    .dataframe thead th {\n",
       "        text-align: right;\n",
       "    }\n",
       "</style>\n",
       "<table border=\"1\" class=\"dataframe\">\n",
       "  <thead>\n",
       "    <tr style=\"text-align: right;\">\n",
       "      <th></th>\n",
       "      <th>Claim_ID</th>\n",
       "      <th>Food_ID</th>\n",
       "      <th>Receiver_ID</th>\n",
       "      <th>Status</th>\n",
       "      <th>Timestamp</th>\n",
       "    </tr>\n",
       "  </thead>\n",
       "  <tbody>\n",
       "    <tr>\n",
       "      <th>0</th>\n",
       "      <td>1</td>\n",
       "      <td>164</td>\n",
       "      <td>908</td>\n",
       "      <td>Pending</td>\n",
       "      <td>2025-03-05 05:26:00</td>\n",
       "    </tr>\n",
       "    <tr>\n",
       "      <th>1</th>\n",
       "      <td>2</td>\n",
       "      <td>353</td>\n",
       "      <td>391</td>\n",
       "      <td>Cancelled</td>\n",
       "      <td>2025-03-11 10:24:00</td>\n",
       "    </tr>\n",
       "    <tr>\n",
       "      <th>2</th>\n",
       "      <td>3</td>\n",
       "      <td>626</td>\n",
       "      <td>492</td>\n",
       "      <td>Completed</td>\n",
       "      <td>2025-03-21 00:59:00</td>\n",
       "    </tr>\n",
       "    <tr>\n",
       "      <th>3</th>\n",
       "      <td>4</td>\n",
       "      <td>61</td>\n",
       "      <td>933</td>\n",
       "      <td>Cancelled</td>\n",
       "      <td>2025-03-04 09:08:00</td>\n",
       "    </tr>\n",
       "    <tr>\n",
       "      <th>4</th>\n",
       "      <td>5</td>\n",
       "      <td>345</td>\n",
       "      <td>229</td>\n",
       "      <td>Pending</td>\n",
       "      <td>2025-03-14 15:17:00</td>\n",
       "    </tr>\n",
       "    <tr>\n",
       "      <th>...</th>\n",
       "      <td>...</td>\n",
       "      <td>...</td>\n",
       "      <td>...</td>\n",
       "      <td>...</td>\n",
       "      <td>...</td>\n",
       "    </tr>\n",
       "    <tr>\n",
       "      <th>995</th>\n",
       "      <td>996</td>\n",
       "      <td>855</td>\n",
       "      <td>211</td>\n",
       "      <td>Completed</td>\n",
       "      <td>2025-03-13 19:40:00</td>\n",
       "    </tr>\n",
       "    <tr>\n",
       "      <th>996</th>\n",
       "      <td>997</td>\n",
       "      <td>980</td>\n",
       "      <td>746</td>\n",
       "      <td>Cancelled</td>\n",
       "      <td>2025-03-17 22:04:00</td>\n",
       "    </tr>\n",
       "    <tr>\n",
       "      <th>997</th>\n",
       "      <td>998</td>\n",
       "      <td>832</td>\n",
       "      <td>967</td>\n",
       "      <td>Cancelled</td>\n",
       "      <td>2025-03-13 18:00:00</td>\n",
       "    </tr>\n",
       "    <tr>\n",
       "      <th>998</th>\n",
       "      <td>999</td>\n",
       "      <td>917</td>\n",
       "      <td>90</td>\n",
       "      <td>Completed</td>\n",
       "      <td>2025-03-01 15:31:00</td>\n",
       "    </tr>\n",
       "    <tr>\n",
       "      <th>999</th>\n",
       "      <td>1000</td>\n",
       "      <td>596</td>\n",
       "      <td>950</td>\n",
       "      <td>Cancelled</td>\n",
       "      <td>2025-03-13 12:51:00</td>\n",
       "    </tr>\n",
       "  </tbody>\n",
       "</table>\n",
       "<p>1000 rows × 5 columns</p>\n",
       "</div>"
      ],
      "text/plain": [
       "     Claim_ID  Food_ID  Receiver_ID     Status           Timestamp\n",
       "0           1      164          908    Pending 2025-03-05 05:26:00\n",
       "1           2      353          391  Cancelled 2025-03-11 10:24:00\n",
       "2           3      626          492  Completed 2025-03-21 00:59:00\n",
       "3           4       61          933  Cancelled 2025-03-04 09:08:00\n",
       "4           5      345          229    Pending 2025-03-14 15:17:00\n",
       "..        ...      ...          ...        ...                 ...\n",
       "995       996      855          211  Completed 2025-03-13 19:40:00\n",
       "996       997      980          746  Cancelled 2025-03-17 22:04:00\n",
       "997       998      832          967  Cancelled 2025-03-13 18:00:00\n",
       "998       999      917           90  Completed 2025-03-01 15:31:00\n",
       "999      1000      596          950  Cancelled 2025-03-13 12:51:00\n",
       "\n",
       "[1000 rows x 5 columns]"
      ]
     },
     "execution_count": 18,
     "metadata": {},
     "output_type": "execute_result"
    }
   ],
   "source": [
    "claims_data['Timestamp']=pd.to_datetime(claims_data['Timestamp'])\n",
    "claims_data"
   ]
  },
  {
   "cell_type": "code",
   "execution_count": 19,
   "id": "0fcc4428",
   "metadata": {},
   "outputs": [
    {
     "name": "stdout",
     "output_type": "stream",
     "text": [
      "<class 'pandas.core.frame.DataFrame'>\n",
      "RangeIndex: 1000 entries, 0 to 999\n",
      "Data columns (total 5 columns):\n",
      " #   Column       Non-Null Count  Dtype         \n",
      "---  ------       --------------  -----         \n",
      " 0   Claim_ID     1000 non-null   int64         \n",
      " 1   Food_ID      1000 non-null   int64         \n",
      " 2   Receiver_ID  1000 non-null   int64         \n",
      " 3   Status       1000 non-null   object        \n",
      " 4   Timestamp    1000 non-null   datetime64[ns]\n",
      "dtypes: datetime64[ns](1), int64(3), object(1)\n",
      "memory usage: 39.2+ KB\n"
     ]
    }
   ],
   "source": [
    "claims_data.info()"
   ]
  },
  {
   "cell_type": "code",
   "execution_count": 20,
   "id": "fa863056",
   "metadata": {},
   "outputs": [
    {
     "name": "stdout",
     "output_type": "stream",
     "text": [
      "<pymysql.connections.Connection object at 0x0000011F844E4980>\n"
     ]
    }
   ],
   "source": [
    "con= pymysql.connect(\n",
    "    host=\"localhost\",\n",
    "    user=\"root\",\n",
    "    password=\"root\",\n",
    "    autocommit=True\n",
    "    )\n",
    "print(con)"
   ]
  },
  {
   "cell_type": "code",
   "execution_count": 21,
   "id": "30f9dc31",
   "metadata": {},
   "outputs": [],
   "source": [
    "mycursor=con.cursor()"
   ]
  },
  {
   "cell_type": "code",
   "execution_count": 22,
   "id": "a67e926c",
   "metadata": {},
   "outputs": [
    {
     "data": {
      "text/plain": [
       "1"
      ]
     },
     "execution_count": 22,
     "metadata": {},
     "output_type": "execute_result"
    }
   ],
   "source": [
    "mycursor.execute(\"CREATE DATABASE IF NOT EXISTS LOCALFOODWASTE\")"
   ]
  },
  {
   "cell_type": "code",
   "execution_count": 23,
   "id": "51504719",
   "metadata": {},
   "outputs": [
    {
     "name": "stdout",
     "output_type": "stream",
     "text": [
      "('hari',)\n",
      "('information_schema',)\n",
      "('localfoodwaste',)\n",
      "('mysql',)\n",
      "('performance_schema',)\n",
      "('videogame',)\n",
      "('videogames_db',)\n"
     ]
    }
   ],
   "source": [
    "mycursor.execute(\"SHOW DATABASES\")\n",
    "for x in mycursor:\n",
    "    print(x)"
   ]
  },
  {
   "cell_type": "code",
   "execution_count": 24,
   "id": "c82cdcea",
   "metadata": {},
   "outputs": [
    {
     "data": {
      "text/plain": [
       "0"
      ]
     },
     "execution_count": 24,
     "metadata": {},
     "output_type": "execute_result"
    }
   ],
   "source": [
    "mycursor.execute(\"USE localfoodwaste\")"
   ]
  },
  {
   "cell_type": "code",
   "execution_count": 25,
   "id": "dbaa3ec8",
   "metadata": {},
   "outputs": [
    {
     "name": "stdout",
     "output_type": "stream",
     "text": [
      "Providers and Receivers tables created.\n",
      "FoodListings and Claims tables created.\n"
     ]
    }
   ],
   "source": [
    "create_providers_table = \"\"\"\n",
    "CREATE TABLE IF NOT EXISTS Providers (\n",
    "    Provider_ID INT PRIMARY KEY,\n",
    "    Name VARCHAR(255) NOT NULL,\n",
    "    Type VARCHAR(50),\n",
    "    Address TEXT,\n",
    "    City VARCHAR(100),\n",
    "    Contact VARCHAR(100)\n",
    ");\n",
    "\"\"\"\n",
    "\n",
    "create_receivers_table = \"\"\"\n",
    "CREATE TABLE IF NOT EXISTS Receivers (\n",
    "    Receiver_ID INT PRIMARY KEY,\n",
    "    Name VARCHAR(255) NOT NULL,\n",
    "    Type VARCHAR(50),\n",
    "    City VARCHAR(100),\n",
    "    Contact VARCHAR(100)\n",
    ");\n",
    "\"\"\"\n",
    "\n",
    "create_foodlistings_table = \"\"\"\n",
    "CREATE TABLE IF NOT EXISTS FoodListings (\n",
    "    Food_ID INT PRIMARY KEY,\n",
    "    Food_Name VARCHAR(100),\n",
    "    Quantity INT,\n",
    "    Expiry_Date DATE,\n",
    "    Provider_ID INT,\n",
    "    Provider_Type VARCHAR(50),\n",
    "    Location VARCHAR(100),\n",
    "    Food_Type VARCHAR(50),\n",
    "    Meal_Type VARCHAR(50),\n",
    "    FOREIGN KEY (Provider_ID) REFERENCES Providers(Provider_ID)\n",
    "    ON DELETE CASCADE\n",
    "    ON UPDATE CASCADE\n",
    ");\n",
    "\"\"\"\n",
    "\n",
    "create_claims_table = \"\"\"\n",
    "CREATE TABLE IF NOT EXISTS Claims (\n",
    "    Claim_ID INT PRIMARY KEY,\n",
    "    Food_ID INT,\n",
    "    Receiver_ID INT,\n",
    "    Status VARCHAR(50),\n",
    "    Timestamp DATETIME,\n",
    "    FOREIGN KEY (Food_ID) REFERENCES FoodListings(Food_ID),\n",
    "    FOREIGN KEY (Receiver_ID) REFERENCES Receivers(Receiver_ID)\n",
    "    ON DELETE CASCADE\n",
    "    ON UPDATE CASCADE\n",
    ");\n",
    "\"\"\"\n",
    "mycursor.execute(create_providers_table)\n",
    "mycursor.execute(create_receivers_table)\n",
    "print(\"Providers and Receivers tables created.\")\n",
    "mycursor.execute(create_foodlistings_table)\n",
    "mycursor.execute(create_claims_table)\n",
    "print(\"FoodListings and Claims tables created.\")"
   ]
  },
  {
   "cell_type": "code",
   "execution_count": 26,
   "id": "1a7ec2dd",
   "metadata": {},
   "outputs": [
    {
     "name": "stdout",
     "output_type": "stream",
     "text": [
      "claims\n",
      "foodlistings\n",
      "providers\n",
      "receivers\n"
     ]
    }
   ],
   "source": [
    "mycursor.execute(\"show tables\") #will return list of tuples in single row for each table\n",
    "tables = mycursor.fetchall()\n",
    "for table in tables:\n",
    "    print(table[0])"
   ]
  },
  {
   "cell_type": "code",
   "execution_count": 27,
   "id": "a2012833",
   "metadata": {},
   "outputs": [
    {
     "name": "stdout",
     "output_type": "stream",
     "text": [
      " Providers data inserted.\n"
     ]
    }
   ],
   "source": [
    "insert_query_providers = \"\"\"\n",
    "INSERT INTO Providers (Provider_ID, Name, Type, Address, City, Contact) \n",
    "VALUES (%s, %s, %s, %s, %s, %s)\n",
    "\"\"\"\n",
    "mycursor.execute(\"SELECT COUNT(*) FROM Providers\")\n",
    "count = mycursor.fetchone()[0]\n",
    "if count == 0:\n",
    "  for index, row in providers_data.iterrows():\n",
    "    mycursor.execute(insert_query_providers, tuple(row))\n",
    "  print(\" Providers data inserted.\")\n",
    "else:\n",
    "  print(\"Data already present\")"
   ]
  },
  {
   "cell_type": "code",
   "execution_count": 28,
   "id": "447aa9d3",
   "metadata": {},
   "outputs": [
    {
     "name": "stdout",
     "output_type": "stream",
     "text": [
      "   Provider_ID                         Name           Type  \\\n",
      "0            1             Gonzales-Cochran    Supermarket   \n",
      "1            2  Nielsen, Johnson and Fuller  Grocery Store   \n",
      "2            3                 Miller-Black    Supermarket   \n",
      "3            4   Clark, Prince and Williams  Grocery Store   \n",
      "4            5               Coleman-Farley  Grocery Store   \n",
      "\n",
      "                                             Address            City  \\\n",
      "0  74347 Christopher Extensions\\nAndreamouth, OK ...     New Jessica   \n",
      "1           91228 Hanson Stream\\nWelchtown, OR 27136     East Sheena   \n",
      "2  561 Martinez Point Suite 507\\nGuzmanchester, W...  Lake Jesusview   \n",
      "3     467 Bell Trail Suite 409\\nPort Jesus, IA 61188     Mendezmouth   \n",
      "4  078 Matthew Creek Apt. 319\\nSaraborough, MA 53978   Valentineside   \n",
      "\n",
      "                Contact  \n",
      "0       +1-600-220-0480  \n",
      "1  +1-925-283-8901x6297  \n",
      "2      001-517-295-2206  \n",
      "3      556.944.8935x401  \n",
      "4          193.714.6577  \n"
     ]
    }
   ],
   "source": [
    "select_providers = \"SELECT * FROM Providers LIMIT 5\"\n",
    "mycursor.execute(select_providers)\n",
    "rows = mycursor.fetchall()\n",
    "columns = [desc[0] for desc in mycursor.description]\n",
    "df = pd.DataFrame(rows, columns=columns)\n",
    "print(df)\n"
   ]
  },
  {
   "cell_type": "code",
   "execution_count": 30,
   "id": "58c57d88",
   "metadata": {},
   "outputs": [
    {
     "name": "stdout",
     "output_type": "stream",
     "text": [
      "Receivers table already has data. Skipping insert.\n"
     ]
    }
   ],
   "source": [
    "mycursor.execute(\"SELECT COUNT(*) FROM Receivers\")\n",
    "count = mycursor.fetchone()[0]\n",
    "\n",
    "if count == 0:\n",
    "    insert_query_receivers = \"\"\"\n",
    "    INSERT INTO Receivers (Receiver_ID, Name, Type, City, Contact) \n",
    "    VALUES (%s, %s, %s, %s, %s)\n",
    "    \"\"\"\n",
    "    for index, row in recivers_data.iterrows():\n",
    "        mycursor.execute(insert_query_receivers, tuple(row))\n",
    "    print(\"Receivers data inserted.\")\n",
    "else:\n",
    "    print(\"Receivers table already has data. Skipping insert.\")"
   ]
  },
  {
   "cell_type": "code",
   "execution_count": 31,
   "id": "fbd91334",
   "metadata": {},
   "outputs": [
    {
     "name": "stdout",
     "output_type": "stream",
     "text": [
      "   Receiver_ID          Name        Type               City           Contact\n",
      "0            1  Donald Gomez     Shelter     Port Carlburgh     (955)922-5295\n",
      "1            2  Laurie Ramos  Individual         Lewisburgh      761.042.1570\n",
      "2            3  Ashley Mckee         NGO  South Randalltown  691-023-0094x856\n",
      "3            4    Erika Rose         NGO   South Shaneville        8296491111\n",
      "4            5   John Romero  Individual          Bakerport      067.491.0154\n"
     ]
    }
   ],
   "source": [
    "select_recivers=\"select * from  Receivers LIMIT 5\"\n",
    "mycursor.execute(select_recivers)\n",
    "rows=mycursor.fetchall()\n",
    "column_recivers= [ desc[0] for desc in mycursor.description]\n",
    "recivers_df= pd.DataFrame(rows,columns=column_recivers)\n",
    "print(recivers_df)\n"
   ]
  },
  {
   "cell_type": "code",
   "execution_count": 33,
   "id": "2a5ea46f",
   "metadata": {},
   "outputs": [
    {
     "name": "stdout",
     "output_type": "stream",
     "text": [
      "FoodListings table already has data. Skipping insert.\n"
     ]
    }
   ],
   "source": [
    "mycursor.execute(\"SELECT COUNT(*) FROM FoodListings\")\n",
    "count = mycursor.fetchone()[0]\n",
    "\n",
    "if count == 0:\n",
    "    insert_query_food = \"\"\"\n",
    "    INSERT INTO FoodListings (Food_ID, Food_Name, Quantity, Expiry_Date, Provider_ID, Provider_Type, Location, Food_Type, Meal_Type) \n",
    "    VALUES (%s, %s, %s, %s, %s, %s, %s, %s, %s)\n",
    "    \"\"\"\n",
    "    for index, row in foodlisting_data.iterrows():\n",
    "        mycursor.execute(insert_query_food, tuple(row))\n",
    "    print(\"FoodListings data inserted.\")\n",
    "else:\n",
    "    print(\"FoodListings table already has data. Skipping insert.\")"
   ]
  },
  {
   "cell_type": "code",
   "execution_count": 34,
   "id": "f8db3ad5",
   "metadata": {},
   "outputs": [
    {
     "name": "stdout",
     "output_type": "stream",
     "text": [
      "   Food_ID Food_Name  Quantity Expiry_Date  Provider_ID     Provider_Type  \\\n",
      "0        1     Bread        43  2025-03-17          110     Grocery Store   \n",
      "1        2      Soup        22  2025-03-24          791     Grocery Store   \n",
      "2        3    Fruits        46  2025-03-28          478  Catering Service   \n",
      "3        4    Fruits        15  2025-03-16          930        Restaurant   \n",
      "4        5      Soup        14  2025-03-19          279        Restaurant   \n",
      "\n",
      "           Location       Food_Type  Meal_Type  \n",
      "0  South Kellyville  Non-Vegetarian  Breakfast  \n",
      "1        West James  Non-Vegetarian     Dinner  \n",
      "2       Lake Regina           Vegan  Breakfast  \n",
      "3         Kellytown           Vegan      Lunch  \n",
      "4        Garciaport           Vegan     Dinner  \n"
     ]
    }
   ],
   "source": [
    "select_foodlisting=\"select * from  FoodListings LIMIT 5\"\n",
    "mycursor.execute(select_foodlisting)\n",
    "rows=mycursor.fetchall()\n",
    "column_foodlisting= [ desc[0] for desc in mycursor.description]\n",
    "foodlisting_df= pd.DataFrame(rows,columns=column_foodlisting)\n",
    "print(foodlisting_df)\n"
   ]
  },
  {
   "cell_type": "code",
   "execution_count": 36,
   "id": "b8fe4abe",
   "metadata": {},
   "outputs": [
    {
     "name": "stdout",
     "output_type": "stream",
     "text": [
      "Claims table already has data. Skipping insert.\n"
     ]
    }
   ],
   "source": [
    "mycursor.execute(\"SELECT COUNT(*) FROM Claims\")\n",
    "count = mycursor.fetchone()[0]\n",
    "\n",
    "if count == 0:\n",
    "    insert_query_claims = \"\"\"\n",
    "    INSERT INTO Claims (Claim_ID, Food_ID, Receiver_ID, Status, Timestamp) \n",
    "    VALUES (%s, %s, %s, %s, %s)\n",
    "    \"\"\"\n",
    "    for index, row in claims_data.iterrows():\n",
    "        mycursor.execute(insert_query_claims, tuple(row))\n",
    "    print(\"Claims data inserted.\")\n",
    "else:\n",
    "    print(\"Claims table already has data. Skipping insert.\")"
   ]
  },
  {
   "cell_type": "code",
   "execution_count": 37,
   "id": "b054bc40",
   "metadata": {},
   "outputs": [
    {
     "name": "stdout",
     "output_type": "stream",
     "text": [
      "   Claim_ID  Food_ID  Receiver_ID     Status           Timestamp\n",
      "0         1      164          908    Pending 2025-03-05 05:26:00\n",
      "1         2      353          391  Cancelled 2025-03-11 10:24:00\n",
      "2         3      626          492  Completed 2025-03-21 00:59:00\n",
      "3         4       61          933  Cancelled 2025-03-04 09:08:00\n",
      "4         5      345          229    Pending 2025-03-14 15:17:00\n"
     ]
    }
   ],
   "source": [
    "select_claims=\"select * from Claims LIMIT 5\"\n",
    "mycursor.execute(select_claims)\n",
    "rows=mycursor.fetchall()\n",
    "column_claims=[desc[0] for desc in mycursor.description]\n",
    "claims_df=pd.DataFrame(rows,columns=column_claims)\n",
    "print(claims_df)"
   ]
  },
  {
   "cell_type": "code",
   "execution_count": 38,
   "id": "fdba76f0",
   "metadata": {},
   "outputs": [
    {
     "name": "stdout",
     "output_type": "stream",
     "text": [
      "                City  Total_Providers  Total_Receivers\n",
      "0         Aaronshire                0                1\n",
      "1           Adambury                1                0\n",
      "2           Adamland                0                1\n",
      "3          Adamsview                1                0\n",
      "4         Adamsville                1                0\n",
      "...              ...              ...              ...\n",
      "1873       Yatesside                1                0\n",
      "1874    Youngchester                1                0\n",
      "1875     Zacharyview                0                1\n",
      "1876    Zimmermanton                1                0\n",
      "1877  Zimmermanville                1                0\n",
      "\n",
      "[1878 rows x 3 columns]\n"
     ]
    }
   ],
   "source": [
    "#1.Questions\n",
    "query1 = \"\"\"\n",
    "        SELECT \n",
    "            City,\n",
    "            COUNT(DISTINCT Provider_ID) AS Total_Providers,\n",
    "            COUNT(DISTINCT Receiver_ID) AS Total_Receivers\n",
    "        FROM (\n",
    "            SELECT City, Provider_ID, NULL AS Receiver_ID FROM Providers\n",
    "            UNION ALL\n",
    "            SELECT City, NULL AS Provider_ID, Receiver_ID FROM Receivers\n",
    "        ) AS combined\n",
    "        GROUP BY City;\n",
    "        \"\"\"\n",
    "\n",
    "mycursor.execute(query1)\n",
    "rows = mycursor.fetchall()\n",
    "columns = [desc[0] for desc in mycursor.description]\n",
    "df = pd.DataFrame(rows, columns=columns)\n",
    "print(df)"
   ]
  },
  {
   "cell_type": "code",
   "execution_count": 39,
   "id": "3715f898",
   "metadata": {},
   "outputs": [
    {
     "name": "stdout",
     "output_type": "stream",
     "text": [
      "      Provider_Type Total_Quantity\n",
      "0        Restaurant           6923\n",
      "1       Supermarket           6696\n",
      "2  Catering Service           6116\n",
      "3     Grocery Store           6059\n"
     ]
    }
   ],
   "source": [
    "#2.Which type of food provider (restaurant, grocery store, etc.) contributes the most food?\n",
    "query2=\"\"\"SELECT Provider_Type, SUM(Quantity) AS Total_Quantity\n",
    "          FROM FoodListings\n",
    "          GROUP BY Provider_Type\n",
    "          ORDER BY Total_Quantity DESC\n",
    "          LIMIT 4;\n",
    "       \"\"\"\n",
    "mycursor.execute(query2)\n",
    "rows = mycursor.fetchall()\n",
    "columns = [desc[0] for desc in mycursor.description]\n",
    "df = pd.DataFrame(rows, columns=columns)\n",
    "print(df)"
   ]
  },
  {
   "cell_type": "code",
   "execution_count": 40,
   "id": "ed08353e",
   "metadata": {},
   "outputs": [
    {
     "name": "stdout",
     "output_type": "stream",
     "text": [
      "               Name         Type  \\\n",
      "0  Gonzales-Cochran  Supermarket   \n",
      "\n",
      "                                             Address          Contact  \n",
      "0  74347 Christopher Extensions\\nAndreamouth, OK ...  +1-600-220-0480  \n"
     ]
    }
   ],
   "source": [
    "#3.What is the contact information of food providers in a specific city?\n",
    "query3=\"\"\"select Name,Type,Address,Contact from Providers where city='New Jessica' \"\"\"\n",
    "mycursor.execute(query3)\n",
    "rows = mycursor.fetchall()\n",
    "columns = [desc[0] for desc in mycursor.description]\n",
    "df = pd.DataFrame(rows, columns=columns)\n",
    "print(df)"
   ]
  },
  {
   "cell_type": "code",
   "execution_count": 41,
   "id": "85d07fcc",
   "metadata": {},
   "outputs": [
    {
     "name": "stdout",
     "output_type": "stream",
     "text": [
      "       Receiver_Name  Total_Claims\n",
      "0  William Frederick             5\n",
      "1       Matthew Webb             5\n",
      "2       Scott Hunter             5\n",
      "3     Anthony Garcia             5\n",
      "4    Alexandra Owens             4\n",
      "5         Betty Reid             4\n",
      "6    Jennifer Nelson             4\n",
      "7   Kristina Simpson             4\n",
      "8    Kristine Martin             4\n",
      "9         Alvin West             4\n"
     ]
    }
   ],
   "source": [
    "#4.Which receivers have claimed the most food?\n",
    "query4=\"\"\"SELECT \n",
    "          r.Name AS Receiver_Name,\n",
    "          COUNT(c.Claim_ID) AS Total_Claims\n",
    "          FROM Claims c\n",
    "          JOIN Receivers r ON c.Receiver_ID = r.Receiver_ID\n",
    "          GROUP BY r.Name\n",
    "          ORDER BY Total_Claims DESC\n",
    "          LIMIT 10;\n",
    "          \"\"\"\n",
    "mycursor.execute(query4)\n",
    "rows = mycursor.fetchall()\n",
    "columns = [desc[0] for desc in mycursor.description]\n",
    "df = pd.DataFrame(rows, columns=columns)\n",
    "print(df)"
   ]
  },
  {
   "cell_type": "code",
   "execution_count": 42,
   "id": "2a384a2b",
   "metadata": {},
   "outputs": [
    {
     "name": "stdout",
     "output_type": "stream",
     "text": [
      "  Total_Food_Quantity\n",
      "0               25794\n"
     ]
    }
   ],
   "source": [
    "#5.What is the total quantity of food available from all providers?\n",
    "query5=\"\"\"SELECT SUM(Quantity) AS Total_Food_Quantity\n",
    "        FROM FoodListings;\n",
    "        \"\"\"\n",
    "mycursor.execute(query5)\n",
    "rows = mycursor.fetchall()\n",
    "columns = [desc[0] for desc in mycursor.description]\n",
    "df = pd.DataFrame(rows, columns=columns)\n",
    "print(df)"
   ]
  },
  {
   "cell_type": "code",
   "execution_count": 43,
   "id": "587f4818",
   "metadata": {},
   "outputs": [
    {
     "name": "stdout",
     "output_type": "stream",
     "text": [
      "        City  Total_Listings\n",
      "0  New Carol               6\n"
     ]
    }
   ],
   "source": [
    "#6.Which city has the highest number of food listings?\n",
    "query6=\"\"\" SELECT Location AS City,\n",
    "           COUNT(Food_ID) AS Total_Listings\n",
    "           FROM FoodListings \n",
    "           GROUP BY Location\n",
    "           ORDER BY Total_Listings DESC\n",
    "           LIMIT 1;\"\"\"\n",
    "mycursor.execute(query6)\n",
    "rows = mycursor.fetchall()\n",
    "columns = [desc[0] for desc in mycursor.description]\n",
    "df = pd.DataFrame(rows, columns=columns)\n",
    "print(df)"
   ]
  },
  {
   "cell_type": "code",
   "execution_count": 44,
   "id": "f050842f",
   "metadata": {},
   "outputs": [
    {
     "name": "stdout",
     "output_type": "stream",
     "text": [
      "        Food_Type  Count\n",
      "0      Vegetarian    336\n",
      "1           Vegan    334\n",
      "2  Non-Vegetarian    330\n"
     ]
    }
   ],
   "source": [
    "#7.What are the most commonly available food types?\n",
    "query7 = \"\"\"\n",
    "        SELECT Food_Type, COUNT(*) AS Count\n",
    "        FROM FoodListings\n",
    "        GROUP BY Food_Type\n",
    "        ORDER BY Count DESC;\n",
    "        \"\"\"\n",
    "mycursor.execute(query7)\n",
    "rows = mycursor.fetchall()\n",
    "columns = [desc[0] for desc in mycursor.description]\n",
    "df = pd.DataFrame(rows, columns=columns)\n",
    "print(df)"
   ]
  },
  {
   "cell_type": "code",
   "execution_count": 45,
   "id": "a6822b03",
   "metadata": {},
   "outputs": [
    {
     "name": "stdout",
     "output_type": "stream",
     "text": [
      "    Food_Name  Total_Claims\n",
      "0        Rice           122\n",
      "1        Soup           114\n",
      "2       Dairy           110\n",
      "3        Fish           108\n",
      "4       Salad           106\n",
      "5     Chicken           102\n",
      "6       Bread            94\n",
      "7       Pasta            87\n",
      "8  Vegetables            86\n",
      "9      Fruits            71\n"
     ]
    }
   ],
   "source": [
    "#8.How many food claims have been made for each food item?\n",
    "query8=\"\"\" SELECT  f.Food_Name,\n",
    "        COUNT(c.Claim_ID) AS Total_Claims\n",
    "        FROM Claims c\n",
    "        JOIN FoodListings f ON c.Food_ID = f.Food_ID\n",
    "        GROUP BY f.Food_Name\n",
    "        ORDER BY Total_Claims DESC;\"\"\"\n",
    "mycursor.execute(query8)\n",
    "rows = mycursor.fetchall()\n",
    "columns = [desc[0] for desc in mycursor.description]\n",
    "df = pd.DataFrame(rows, columns=columns)\n",
    "print(df)"
   ]
  },
  {
   "cell_type": "code",
   "execution_count": 46,
   "id": "73e423cc",
   "metadata": {},
   "outputs": [
    {
     "name": "stdout",
     "output_type": "stream",
     "text": [
      "  Provider_Name  Successful_Claims\n",
      "0   Barry Group                  5\n"
     ]
    }
   ],
   "source": [
    "#9. Which provider has had the highest number of successful food claims?\n",
    "query9=\"\"\"  SELECT p.Name AS Provider_Name,\n",
    "            COUNT(c.Claim_ID) AS Successful_Claims\n",
    "            FROM Claims c\n",
    "            JOIN FoodListings f ON c.Food_ID = f.Food_ID\n",
    "            JOIN Providers p ON f.Provider_ID = p.Provider_ID\n",
    "            WHERE c.Status = 'Completed'\n",
    "            GROUP BY p.Name\n",
    "            ORDER BY Successful_Claims DESC\n",
    "            LIMIT 1;\"\"\"\n",
    "mycursor.execute(query9)\n",
    "rows = mycursor.fetchall()\n",
    "columns = [desc[0] for desc in mycursor.description]\n",
    "df = pd.DataFrame(rows, columns=columns)\n",
    "print(df)"
   ]
  },
  {
   "cell_type": "code",
   "execution_count": 47,
   "id": "d3ec16c0",
   "metadata": {},
   "outputs": [
    {
     "name": "stdout",
     "output_type": "stream",
     "text": [
      "      Status  Claim_Count Percentage_of_Total\n",
      "0  Completed          339            33.90000\n",
      "1  Cancelled          336            33.60000\n",
      "2    Pending          325            32.50000\n"
     ]
    }
   ],
   "source": [
    "#10.What percentage of food claims are completed vs. pending vs. canceled?\n",
    "query10=\"\"\"SELECT Status,\n",
    "           COUNT(Claim_ID) AS Claim_Count,\n",
    "           (COUNT(Claim_ID) * 100.0 / (SELECT COUNT(*) FROM Claims)) AS Percentage_of_Total\n",
    "           FROM Claims\n",
    "           GROUP BY Status\n",
    "           ORDER BY Claim_Count DESC;\"\"\"\n",
    "mycursor.execute(query10)\n",
    "rows = mycursor.fetchall()\n",
    "columns = [desc[0] for desc in mycursor.description]\n",
    "df = pd.DataFrame(rows, columns=columns)\n",
    "print(df)"
   ]
  },
  {
   "cell_type": "code",
   "execution_count": 48,
   "id": "35797add",
   "metadata": {},
   "outputs": [
    {
     "name": "stdout",
     "output_type": "stream",
     "text": [
      "          Receiver_Name Avg_Quantity_Claimed\n",
      "0           Nancy Jones              50.0000\n",
      "1            Lisa Pitts              50.0000\n",
      "2    Christopher Wright              50.0000\n",
      "3           Nancy Silva              50.0000\n",
      "4          Peggy Knight              50.0000\n",
      "..                  ...                  ...\n",
      "615       John Reynolds               2.0000\n",
      "616     Matthew Johnson               2.0000\n",
      "617      Kenneth Barnes               2.0000\n",
      "618        Amanda Kline               1.0000\n",
      "619       Joshua Hooper               1.0000\n",
      "\n",
      "[620 rows x 2 columns]\n"
     ]
    }
   ],
   "source": [
    "#11.What is the average quantity of food claimed per receiver?\n",
    "query11=\"\"\"  SELECT r.Name AS Receiver_Name,\n",
    "             AVG(f.Quantity) AS Avg_Quantity_Claimed\n",
    "             FROM Claims c\n",
    "             JOIN FoodListings f ON c.Food_ID = f.Food_ID\n",
    "             JOIN Receivers r ON c.Receiver_ID = r.Receiver_ID\n",
    "             GROUP BY r.Name\n",
    "             ORDER BY Avg_Quantity_Claimed DESC;\"\"\"\n",
    "mycursor.execute(query11)\n",
    "rows = mycursor.fetchall()\n",
    "columns = [desc[0] for desc in mycursor.description]\n",
    "df = pd.DataFrame(rows, columns=columns)\n",
    "print(df)"
   ]
  },
  {
   "cell_type": "code",
   "execution_count": 49,
   "id": "17583c84",
   "metadata": {},
   "outputs": [
    {
     "name": "stdout",
     "output_type": "stream",
     "text": [
      "   Meal_Type  Total_Claims\n",
      "0  Breakfast           278\n",
      "1      Lunch           250\n",
      "2     Snacks           240\n",
      "3     Dinner           232\n"
     ]
    }
   ],
   "source": [
    "#12. Which meal type (breakfast, lunch, dinner, snacks) is claimed the most?\n",
    "query12=\"\"\" SELECT f.Meal_Type,\n",
    "            COUNT(c.Claim_ID) AS Total_Claims\n",
    "            FROM Claims c\n",
    "            JOIN FoodListings f ON c.Food_ID = f.Food_ID\n",
    "            GROUP BY f.Meal_Type\n",
    "            ORDER BY Total_Claims DESC;\"\"\"\n",
    "mycursor.execute(query12)\n",
    "rows = mycursor.fetchall()\n",
    "columns = [desc[0] for desc in mycursor.description]\n",
    "df = pd.DataFrame(rows, columns=columns)\n",
    "print(df)"
   ]
  },
  {
   "cell_type": "code",
   "execution_count": 50,
   "id": "4ef47361",
   "metadata": {},
   "outputs": [
    {
     "name": "stdout",
     "output_type": "stream",
     "text": [
      "                       Provider_Name Total_Donated_Quantity\n",
      "0                         Miller Inc                    217\n",
      "1                        Barry Group                    179\n",
      "2         Evans, Wright and Mitchell                    158\n",
      "3                        Smith Group                    150\n",
      "4                       Campbell LLC                    145\n",
      "..                               ...                    ...\n",
      "623                   Reyes and Sons                      1\n",
      "624                   Gonzales-Moore                      1\n",
      "625                  Norris-Townsend                      1\n",
      "626                        Mcgee PLC                      1\n",
      "627  Martinez, Armstrong and Carroll                      1\n",
      "\n",
      "[628 rows x 2 columns]\n"
     ]
    }
   ],
   "source": [
    "#13.What is the total quantity of food donated by each provider?\n",
    "query13=\"\"\" SELECT \n",
    "            p.Name AS Provider_Name,\n",
    "            SUM(f.Quantity) AS Total_Donated_Quantity\n",
    "            FROM Providers p\n",
    "            JOIN FoodListings f ON p.Provider_ID = f.Provider_ID\n",
    "            GROUP BY p.Name\n",
    "            ORDER BY Total_Donated_Quantity DESC;\n",
    "        \"\"\"\n",
    "mycursor.execute(query13)\n",
    "rows = mycursor.fetchall()\n",
    "columns = [desc[0] for desc in mycursor.description]\n",
    "df = pd.DataFrame(rows, columns=columns)\n",
    "print(df)"
   ]
  },
  {
   "cell_type": "code",
   "execution_count": 51,
   "id": "b6c06aee",
   "metadata": {},
   "outputs": [
    {
     "name": "stdout",
     "output_type": "stream",
     "text": [
      "        City  Total_Providers\n",
      "0  New Carol                3\n"
     ]
    }
   ],
   "source": [
    "#14.Which city has the highest number of food providers?\n",
    "query14=\"\"\"SELECT City, COUNT(*) AS Total_Providers\n",
    "FROM Providers\n",
    "GROUP BY City\n",
    "ORDER BY Total_Providers DESC\n",
    "LIMIT 1;\"\"\"\n",
    "\n",
    "mycursor.execute(query14)\n",
    "rows = mycursor.fetchall()\n",
    "columns = [desc[0] for desc in mycursor.description]\n",
    "df = pd.DataFrame(rows, columns=columns)\n",
    "print(df)"
   ]
  },
  {
   "cell_type": "code",
   "execution_count": 52,
   "id": "8b34f08e",
   "metadata": {},
   "outputs": [
    {
     "name": "stdout",
     "output_type": "stream",
     "text": [
      "Empty DataFrame\n",
      "Columns: [Food_Name, Expiry_Date, Days_Left]\n",
      "Index: []\n"
     ]
    }
   ],
   "source": [
    "#15.How many food items are near expiry (within next 7 days)?\n",
    "query15=\"\"\"SELECT Food_Name, Expiry_Date, DATEDIFF(Expiry_Date, CURDATE()) AS Days_Left\n",
    "           FROM FoodListings\n",
    "           WHERE Expiry_Date BETWEEN CURDATE() AND DATE_ADD(CURDATE(), INTERVAL 7 DAY);\"\"\"\n",
    "mycursor.execute(query15)\n",
    "rows = mycursor.fetchall()\n",
    "columns = [desc[0] for desc in mycursor.description]\n",
    "df = pd.DataFrame(rows, columns=columns)\n",
    "print(df)"
   ]
  },
  {
   "cell_type": "code",
   "execution_count": 53,
   "id": "6e8fbe52",
   "metadata": {},
   "outputs": [
    {
     "name": "stdout",
     "output_type": "stream",
     "text": [
      "               City  Total_Claims\n",
      "0        Smithshire             5\n",
      "1        Emilymouth             5\n",
      "2          Greenton             5\n",
      "3      Port Richard             5\n",
      "4         Port Dean             5\n",
      "..              ...           ...\n",
      "602    Matthewmouth             1\n",
      "603  Port Kellifort             1\n",
      "604     Andrewsport             1\n",
      "605    Lake Jeffery             1\n",
      "606   Shelbychester             1\n",
      "\n",
      "[607 rows x 2 columns]\n"
     ]
    }
   ],
   "source": [
    "#16.Which city generates the most food claims?\n",
    "query16=\"\"\"SELECT \n",
    "    r.City,\n",
    "    COUNT(c.Claim_ID) AS Total_Claims\n",
    "FROM Claims c\n",
    "JOIN Receivers r ON c.Receiver_ID = r.Receiver_ID\n",
    "GROUP BY r.City\n",
    "ORDER BY Total_Claims DESC;\"\"\"\n",
    "mycursor.execute(query16)\n",
    "rows = mycursor.fetchall()\n",
    "columns = [desc[0] for desc in mycursor.description]\n",
    "df = pd.DataFrame(rows, columns=columns)\n",
    "print(df)"
   ]
  },
  {
   "cell_type": "code",
   "execution_count": 54,
   "id": "9da83541",
   "metadata": {},
   "outputs": [
    {
     "name": "stdout",
     "output_type": "stream",
     "text": [
      "                    City  Pending_Claims\n",
      "0              Darinview               3\n",
      "1           Spencermouth               3\n",
      "2               New Tina               3\n",
      "3      West Courtneyport               3\n",
      "4             Lake Shawn               2\n",
      "..                   ...             ...\n",
      "271        North Michael               1\n",
      "272  South Samanthaburgh               1\n",
      "273        New Seanburgh               1\n",
      "274         Brianchester               1\n",
      "275          Travishaven               1\n",
      "\n",
      "[276 rows x 2 columns]\n"
     ]
    }
   ],
   "source": [
    "#17.How many claims are still pending per city?\n",
    "query17=\"\"\"SELECT \n",
    "    r.City,\n",
    "    COUNT(c.Claim_ID) AS Pending_Claims\n",
    "FROM Claims c\n",
    "JOIN Receivers r ON c.Receiver_ID = r.Receiver_ID\n",
    "WHERE c.Status = 'Pending'\n",
    "GROUP BY r.City\n",
    "ORDER BY Pending_Claims DESC;\"\"\"\n",
    "mycursor.execute(query17)\n",
    "rows = mycursor.fetchall()\n",
    "columns = [desc[0] for desc in mycursor.description]\n",
    "df = pd.DataFrame(rows, columns=columns)\n",
    "print(df)"
   ]
  },
  {
   "cell_type": "code",
   "execution_count": 55,
   "id": "9099b117",
   "metadata": {},
   "outputs": [
    {
     "name": "stdout",
     "output_type": "stream",
     "text": [
      "     Month Total_Donations\n",
      "0  2025-03           25794\n"
     ]
    }
   ],
   "source": [
    "#18.Monthly trend of food donations\n",
    "query18=\"\"\"SELECT DATE_FORMAT(Expiry_Date, '%Y-%m') AS Month,\n",
    "           SUM(Quantity) AS Total_Donations\n",
    "           FROM FoodListings\n",
    "           GROUP BY Month\n",
    "           ORDER BY Month;\"\"\"\n",
    "mycursor.execute(query18)\n",
    "rows = mycursor.fetchall()\n",
    "columns = [desc[0] for desc in mycursor.description]\n",
    "df = pd.DataFrame(rows, columns=columns)\n",
    "print(df)"
   ]
  },
  {
   "cell_type": "code",
   "execution_count": 56,
   "id": "013190e8",
   "metadata": {},
   "outputs": [
    {
     "name": "stdout",
     "output_type": "stream",
     "text": [
      "  Receiver_Type  Total_Claims\n",
      "0           NGO           272\n",
      "1       Charity           268\n",
      "2       Shelter           230\n",
      "3    Individual           230\n"
     ]
    }
   ],
   "source": [
    "#19.Which receiver type has the most claims?\n",
    "query19=\"\"\"SELECT r.Type AS Receiver_Type, COUNT(c.Claim_ID) AS Total_Claims\n",
    "FROM Claims c\n",
    "JOIN Receivers r ON c.Receiver_ID = r.Receiver_ID\n",
    "GROUP BY r.Type\n",
    "ORDER BY Total_Claims DESC;\"\"\"\n",
    "mycursor.execute(query19)\n",
    "rows = mycursor.fetchall()\n",
    "columns = [desc[0] for desc in mycursor.description]\n",
    "df = pd.DataFrame(rows, columns=columns)\n",
    "print(df)"
   ]
  },
  {
   "cell_type": "code",
   "execution_count": 57,
   "id": "9429a7cc",
   "metadata": {},
   "outputs": [
    {
     "name": "stdout",
     "output_type": "stream",
     "text": [
      "                    Provider_Name  Total_Listings Avg_Quantity_Per_Listing\n",
      "0                      Miller Inc               8                  27.1250\n",
      "1                    Campbell LLC               7                  20.7143\n",
      "2                     Barry Group               6                  29.8333\n",
      "3                     Smith Group               5                  30.0000\n",
      "4                     Daniels-Kim               5                  18.0000\n",
      "..                            ...             ...                      ...\n",
      "968  Morris, Serrano and Roberson               0                     None\n",
      "969                   Spencer LLC               0                     None\n",
      "970                Miller-Sanders               0                     None\n",
      "971    Porter, Hernandez and Pace               0                     None\n",
      "972     Vasquez, Ruiz and Flowers               0                     None\n",
      "\n",
      "[973 rows x 3 columns]\n"
     ]
    }
   ],
   "source": [
    "#20.Average number of food listings per provider\n",
    "query20=\"\"\"SELECT p.Name AS Provider_Name, COUNT(f.Food_ID) AS Total_Listings,\n",
    "           AVG(f.Quantity) AS Avg_Quantity_Per_Listing\n",
    "           FROM Providers p\n",
    "           LEFT JOIN FoodListings f ON p.Provider_ID = f.Provider_ID\n",
    "           GROUP BY p.Name\n",
    "           ORDER BY Total_Listings DESC;\"\"\"\n",
    "mycursor.execute(query20)\n",
    "rows = mycursor.fetchall()\n",
    "columns = [desc[0] for desc in mycursor.description]\n",
    "df = pd.DataFrame(rows, columns=columns)\n",
    "print(df)"
   ]
  },
  {
   "cell_type": "code",
   "execution_count": 58,
   "id": "4ac50082",
   "metadata": {},
   "outputs": [
    {
     "name": "stdout",
     "output_type": "stream",
     "text": [
      "                         City  Providers Pending_Claims\n",
      "0                   New Carol          3              1\n",
      "1    South Christopherborough          3              0\n",
      "2                 Bradleyport          2              2\n",
      "3                  Davidville          2              1\n",
      "4                East Anthony          2              1\n",
      "..                        ...        ...            ...\n",
      "958               Wrightville          1              0\n",
      "959                 Yatesside          1              1\n",
      "960              Youngchester          1              1\n",
      "961              Zimmermanton          1              0\n",
      "962            Zimmermanville          1              0\n",
      "\n",
      "[963 rows x 3 columns]\n"
     ]
    }
   ],
   "source": [
    "#21.Do cities with more providers have fewer pending claims?\n",
    "query21=\"\"\"SELECT \n",
    "    p.City,\n",
    "    COUNT(DISTINCT p.Provider_ID) AS Providers,\n",
    "    SUM(CASE WHEN c.Status = 'Pending' THEN 1 ELSE 0 END) AS Pending_Claims\n",
    "FROM Providers p\n",
    "LEFT JOIN FoodListings f ON p.Provider_ID = f.Provider_ID\n",
    "LEFT JOIN Claims c ON f.Food_ID = c.Food_ID\n",
    "GROUP BY p.City\n",
    "ORDER BY Providers DESC;\"\"\"\n",
    "mycursor.execute(query21)\n",
    "rows = mycursor.fetchall()\n",
    "columns = [desc[0] for desc in mycursor.description]\n",
    "df = pd.DataFrame(rows, columns=columns)\n",
    "print(df)"
   ]
  },
  {
   "cell_type": "code",
   "execution_count": 59,
   "id": "ff1a60db",
   "metadata": {},
   "outputs": [
    {
     "name": "stdout",
     "output_type": "stream",
     "text": [
      "                   City  Completed_Claims\n",
      "0         South Kathryn                 5\n",
      "1             New Carol                 4\n",
      "2            Devinmouth                 4\n",
      "3             Coleburgh                 4\n",
      "4      East Heatherport                 4\n",
      "..                  ...               ...\n",
      "243  North Edwinchester                 1\n",
      "244       North Crystal                 1\n",
      "245        Lake Heather                 1\n",
      "246        Harrisonbury                 1\n",
      "247          Port Karen                 1\n",
      "\n",
      "[248 rows x 2 columns]\n"
     ]
    }
   ],
   "source": [
    "#22.Which cities have the highest number of completed food claims?\n",
    "query22=\"\"\"SELECT f.Location AS City, COUNT(c.Claim_ID) AS Completed_Claims\n",
    "FROM Claims c\n",
    "JOIN FoodListings f ON c.Food_ID = f.Food_ID\n",
    "WHERE c.Status = 'Completed'\n",
    "GROUP BY f.Location\n",
    "ORDER BY Completed_Claims DESC;\"\"\"\n",
    "mycursor.execute(query22)\n",
    "rows = mycursor.fetchall()\n",
    "columns = [desc[0] for desc in mycursor.description]\n",
    "df = pd.DataFrame(rows, columns=columns)\n",
    "print(df)"
   ]
  },
  {
   "cell_type": "code",
   "execution_count": 60,
   "id": "7ff29e2d",
   "metadata": {},
   "outputs": [
    {
     "name": "stdout",
     "output_type": "stream",
     "text": [
      "        Food_Type Avg_Quantity_Donated\n",
      "0           Vegan                26.34\n",
      "1  Non-Vegetarian                26.23\n",
      "2      Vegetarian                24.82\n"
     ]
    }
   ],
   "source": [
    "#23.Which food type has the highest average quantity donated per listing?\n",
    "query23=\"\"\"SELECT Food_Type,\n",
    "       ROUND(AVG(Quantity), 2) AS Avg_Quantity_Donated\n",
    "FROM FoodListings\n",
    "GROUP BY Food_Type\n",
    "ORDER BY Avg_Quantity_Donated DESC;\"\"\"\n",
    "mycursor.execute(query23)\n",
    "rows = mycursor.fetchall()\n",
    "columns = [desc[0] for desc in mycursor.description]\n",
    "df = pd.DataFrame(rows, columns=columns)\n",
    "print(df)"
   ]
  },
  {
   "cell_type": "code",
   "execution_count": null,
   "id": "9564d580",
   "metadata": {},
   "outputs": [],
   "source": []
  }
 ],
 "metadata": {
  "kernelspec": {
   "display_name": "Python 3",
   "language": "python",
   "name": "python3"
  },
  "language_info": {
   "codemirror_mode": {
    "name": "ipython",
    "version": 3
   },
   "file_extension": ".py",
   "mimetype": "text/x-python",
   "name": "python",
   "nbconvert_exporter": "python",
   "pygments_lexer": "ipython3",
   "version": "3.13.3"
  }
 },
 "nbformat": 4,
 "nbformat_minor": 5
}
